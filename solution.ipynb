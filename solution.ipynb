{
 "cells": [
  {
   "cell_type": "markdown",
   "id": "209f847d",
   "metadata": {},
   "source": [
    "# 1. Инициализация датасета"
   ]
  },
  {
   "cell_type": "code",
   "execution_count": 1,
   "id": "4965a2a3",
   "metadata": {},
   "outputs": [],
   "source": [
    "from src.data_utils import create_dataset, LSTMDataset"
   ]
  },
  {
   "cell_type": "code",
   "execution_count": 2,
   "id": "19c0e4d8",
   "metadata": {},
   "outputs": [
    {
     "name": "stdout",
     "output_type": "stream",
     "text": [
      "\n",
      "\tCreate dataset\n",
      "\n"
     ]
    },
    {
     "name": "stderr",
     "output_type": "stream",
     "text": [
      "100%|██████████| 1600498/1600498 [00:18<00:00, 84980.45it/s]\n"
     ]
    },
    {
     "name": "stdout",
     "output_type": "stream",
     "text": [
      "\tShuffle\n",
      "\tSplit\n"
     ]
    }
   ],
   "source": [
    "train, val, test = create_dataset()"
   ]
  },
  {
   "cell_type": "code",
   "execution_count": 3,
   "id": "6331bca0",
   "metadata": {},
   "outputs": [],
   "source": [
    "from transformers import AutoTokenizer\n",
    "name_tokenizer='bert-base-uncased'\n",
    "tokenizer = AutoTokenizer.from_pretrained(name_tokenizer)"
   ]
  },
  {
   "cell_type": "code",
   "execution_count": 4,
   "id": "79e48a4d",
   "metadata": {},
   "outputs": [],
   "source": [
    "train_dataset = LSTMDataset(train, tokenizer, seq_len=30)\n",
    "val_dataset = LSTMDataset(val, tokenizer, seq_len=30)\n",
    "test_dataset = LSTMDataset(test, tokenizer, seq_len=30)"
   ]
  },
  {
   "cell_type": "code",
   "execution_count": 5,
   "id": "97c86a44",
   "metadata": {},
   "outputs": [],
   "source": [
    "from torch.utils.data import DataLoader\n",
    "import torch\n",
    "from torch.nn.utils.rnn import pad_sequence, pack_padded_sequence\n"
   ]
  },
  {
   "cell_type": "code",
   "execution_count": 6,
   "id": "d11e65e5",
   "metadata": {},
   "outputs": [],
   "source": [
    "def collate_fn(batch):\n",
    "    texts = [item['input'] for item in batch]\n",
    "    labels =  torch.tensor([item['target'] for item in batch], dtype=torch.long)\n",
    "    padded_texts = pad_sequence(texts, batch_first=True, padding_value=0) \n",
    "\n",
    "\n",
    "    return {\n",
    "        'input': padded_texts, \n",
    "        'target': labels\n",
    "    }"
   ]
  },
  {
   "cell_type": "code",
   "execution_count": 12,
   "id": "3b482b56",
   "metadata": {},
   "outputs": [],
   "source": [
    "train_loader = DataLoader(train_dataset, batch_size=256, shuffle=True, collate_fn=collate_fn)\n",
    "val_loader = DataLoader(val_dataset, batch_size=256, shuffle=False, collate_fn=collate_fn)\n"
   ]
  },
  {
   "cell_type": "markdown",
   "id": "1f21965b",
   "metadata": {},
   "source": [
    "# 2. Создание и обучение LSTM"
   ]
  },
  {
   "cell_type": "code",
   "execution_count": 8,
   "id": "f0587819",
   "metadata": {},
   "outputs": [],
   "source": [
    "from src.lstm_model import MyLSTM\n",
    "from src.lstm_train import train as train_lstm\n",
    "from src.eval_lstm import eval as eval_lstm"
   ]
  },
  {
   "cell_type": "code",
   "execution_count": 9,
   "id": "507bc07a",
   "metadata": {},
   "outputs": [],
   "source": [
    "\n",
    "vocab_size = tokenizer.vocab_size  \n",
    "hidden_dim = 128\n",
    "model = MyLSTM(vocab_size, hidden_dim)\n",
    "optimizer = torch.optim.Adam(model.parameters(), lr=0.001)\n",
    "criterion = torch.nn.CrossEntropyLoss()"
   ]
  },
  {
   "cell_type": "code",
   "execution_count": 10,
   "id": "f2e82502",
   "metadata": {},
   "outputs": [
    {
     "data": {
      "text/plain": [
       "True"
      ]
     },
     "execution_count": 10,
     "metadata": {},
     "output_type": "execute_result"
    }
   ],
   "source": [
    "torch.cuda.is_available()"
   ]
  },
  {
   "cell_type": "code",
   "execution_count": null,
   "id": "1afc5535",
   "metadata": {},
   "outputs": [
    {
     "name": "stderr",
     "output_type": "stream",
     "text": [
      "  0%|          | 0/63098 [00:00<?, ?it/s]"
     ]
    },
    {
     "name": "stderr",
     "output_type": "stream",
     "text": [
      "  0%|          | 267/63098 [00:40<2:05:40,  8.33it/s]"
     ]
    }
   ],
   "source": [
    "n_epoch = 6\n",
    "device = torch.device(\"cuda:0\" if torch.cuda.is_available() else \"cpu\")\n",
    "model = model.to(device)\n",
    "train_lstm(\n",
    "    model,\n",
    "    train_loader,\n",
    "    optimizer,\n",
    "    tokenizer,\n",
    "    val_loader,\n",
    "    criterion,\n",
    "    n_epoch\n",
    ")"
   ]
  },
  {
   "cell_type": "code",
   "execution_count": null,
   "id": "bdfa2a2d",
   "metadata": {},
   "outputs": [],
   "source": []
  },
  {
   "cell_type": "markdown",
   "id": "472ce5cb",
   "metadata": {},
   "source": [
    "# 3. Использование трансформера"
   ]
  },
  {
   "cell_type": "code",
   "execution_count": null,
   "id": "0e0a1d6d",
   "metadata": {},
   "outputs": [],
   "source": [
    "test_loader = DataLoader(test_dataset, batch_size=100, shuffle=False, collate_fn=collate_fn)"
   ]
  },
  {
   "cell_type": "code",
   "execution_count": null,
   "id": "5805745f",
   "metadata": {},
   "outputs": [],
   "source": []
  },
  {
   "cell_type": "markdown",
   "id": "913ed573",
   "metadata": {},
   "source": []
  }
 ],
 "metadata": {
  "kernelspec": {
   "display_name": "ya_2_fin",
   "language": "python",
   "name": "python3"
  },
  "language_info": {
   "codemirror_mode": {
    "name": "ipython",
    "version": 3
   },
   "file_extension": ".py",
   "mimetype": "text/x-python",
   "name": "python",
   "nbconvert_exporter": "python",
   "pygments_lexer": "ipython3",
   "version": "3.12.0"
  }
 },
 "nbformat": 4,
 "nbformat_minor": 5
}
